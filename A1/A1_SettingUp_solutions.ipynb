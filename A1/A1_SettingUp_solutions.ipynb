{
 "cells": [
  {
   "cell_type": "markdown",
   "metadata": {
    "nbgrader": {
     "grade": false,
     "grade_id": "header-1",
     "locked": true,
     "schema_version": 1,
     "solution": false
    }
   },
   "source": [
    "# COGS 108 - Assignment 1: Setting Up\n",
    "\n",
    "This assignment covers Python, git, and Github. \n",
    "\n",
    "Visit the relevant tutorials on https://github.com/COGS108/Tutorials for guidance for these topics.\n",
    "\n",
    "This assignment is out of 12 points, worth 12% of your grade."
   ]
  },
  {
   "cell_type": "markdown",
   "metadata": {
    "collapsed": true,
    "nbgrader": {
     "grade": false,
     "grade_id": "header-2",
     "locked": true,
     "schema_version": 1,
     "solution": false
    }
   },
   "source": [
    "## IMPORTANT\n",
    "\n",
    "### In the markdown cell below, write in your Student ID and Github username. \n",
    "\n",
    "The details you enter below will be how we get your account details to check that you have completed the Github portions of this assignment.\n",
    "\n",
    "Please do not remove anything from the cell below, just add in the requested information to each line."
   ]
  },
  {
   "cell_type": "markdown",
   "metadata": {
    "collapsed": true
   },
   "source": [
    "My Student ID number is: \n",
    "\n",
    "My Github username is: \n",
    "\n",
    "^Make sure this is your username, **not the email address** you used to create the account."
   ]
  },
  {
   "cell_type": "markdown",
   "metadata": {
    "nbgrader": {
     "grade": false,
     "grade_id": "cell-474234f24f984b8b",
     "locked": true,
     "schema_version": 1,
     "solution": false
    }
   },
   "source": [
    "The following couple cells are checks that you are running the right tools for these assignments.\n",
    "\n",
    "If either of them fail, you will need to update some things. If you are not sure how, ask in office hours."
   ]
  },
  {
   "cell_type": "code",
   "execution_count": 3,
   "metadata": {
    "nbgrader": {
     "grade": false,
     "grade_id": "cell-7aa052f9d764c077",
     "locked": true,
     "schema_version": 1,
     "solution": false
    }
   },
   "outputs": [],
   "source": [
    "# These assignments require Python 3 (not Python 2).\n",
    "# Run this cell to check your version of Python.\n",
    "import sys\n",
    "assert sys.version_info[0] == 3, \"You must use Python 3 (preferably 3.6 or 3.7) for these assignments.\""
   ]
  },
  {
   "cell_type": "code",
   "execution_count": 4,
   "metadata": {
    "nbgrader": {
     "grade": false,
     "grade_id": "cell-8a898f9a42a00c16",
     "locked": true,
     "schema_version": 1,
     "solution": false
    }
   },
   "outputs": [],
   "source": [
    "# Run this cell to check your version of IPython. \n",
    "# If you get an error (the message prints out), stop and upgrade Jupyter.\n",
    "import IPython\n",
    "assert IPython.version_info[0] >= 3, \"Your version of IPython is too old, please update it.\""
   ]
  },
  {
   "cell_type": "markdown",
   "metadata": {
    "collapsed": true,
    "nbgrader": {
     "grade": false,
     "grade_id": "part1-instr",
     "locked": true,
     "schema_version": 1,
     "solution": false
    }
   },
   "source": [
    "## Part 1 (6 points)\n",
    "\n",
    "Follow along on the instructions in the assignment description to do Part 1 of the assignment with git/Github."
   ]
  },
  {
   "cell_type": "markdown",
   "metadata": {
    "nbgrader": {
     "grade": false,
     "grade_id": "part2-instr",
     "locked": true,
     "schema_version": 1,
     "solution": false
    }
   },
   "source": [
    "## Part 2 (6 points)\n",
    "\n",
    "This part of the assignment is focused on some practice with Python, and with practicing working with the format of the assignments. \n",
    "\n",
    "This class assumes some prior knowledge of Python. In the following questions, you will need to work with basic (standard library) data types (floats, lists, dictionaries, etc.) and control flow (conditionals, loops, functions, etc). If the questions in this section are totally unfamiliar to you, you may need revisit some practice materials to catch up with some of the programming. \n",
    "\n",
    "Through these questions, we will also prompt you to use a couple slightly more advanced standard library functions (for example, 'enumerate' and 'zip'), that may be new to you.\n",
    "\n",
    "Each question should be answerable with a relatively small number of lines of code, up to about 5-7 lines at most. \n",
    "\n",
    "If you are having any trouble, remember to visit the course tutorials (https://github.com/COGS108/Tutorials). Assignment questions often follow the structure of examples provided in the tutorials, and a large number of relevant links and external materials are also indexed in the tutorials. "
   ]
  },
  {
   "cell_type": "markdown",
   "metadata": {
    "nbgrader": {
     "grade": false,
     "grade_id": "cell-e951fd233967468a",
     "locked": true,
     "schema_version": 1,
     "solution": false
    }
   },
   "source": [
    "### How to complete assignments\n",
    "\n",
    "Whenever you see:\n",
    "\n",
    "```python\n",
    "YOUR CODE HERE\n",
    "raise NotImplementedError()\n",
    "```\n",
    "\n",
    "You need to replace this section with some code that answers the questions and meets the specified criteria. Make sure you remove the 'raise' line when you do this (or your notebook will raise an error, regardless of any other code, and thus fail the grading tests).\n",
    "\n",
    "Recall that any cell with one or more `assert` statements in it is a test cell. You should not try to change or delete these cells.\n",
    "\n",
    "Note that there might be more than one `assert` for each question. \n",
    "\n",
    "If a test does fail, read the error that is printed out. The error should let you know which test failed, which may be useful for debugging."
   ]
  },
  {
   "cell_type": "code",
   "execution_count": 3,
   "metadata": {
    "nbgrader": {
     "grade": false,
     "grade_id": "cell-182bb77c3bd740b3",
     "locked": true,
     "schema_version": 1,
     "solution": false
    }
   },
   "outputs": [
    {
     "name": "stdout",
     "output_type": "stream",
     "text": [
      "8\n"
     ]
    }
   ],
   "source": [
    "# PRINTING VARIABLES\n",
    "# A reminder that you can (and should) print and check variables as you go.\n",
    "#  This allows you to check what values they hold, and debug if anything unexpected happens.\n",
    "\n",
    "# Define a variable\n",
    "math_result = 2 * 4\n",
    "\n",
    "# Print out the value(s) of a variable.\n",
    "print(math_result)"
   ]
  },
  {
   "cell_type": "markdown",
   "metadata": {
    "nbgrader": {
     "grade": false,
     "grade_id": "cell-f76482afcae76b14",
     "locked": true,
     "schema_version": 1,
     "solution": false
    }
   },
   "source": [
    "**Question 1: Defining variables (1 point)**\n",
    "\n",
    "Define a list called `var_a`, that contains individual letters a-j (inclusively).\n",
    "\n",
    "Define a tuple called `var_b`, that contains the numbers 1-10 (inclusively)."
   ]
  },
  {
   "cell_type": "code",
   "execution_count": 6,
   "metadata": {
    "nbgrader": {
     "grade": false,
     "grade_id": "cell-4db8c933a259ed1b",
     "locked": false,
     "schema_version": 1,
     "solution": true
    }
   },
   "outputs": [],
   "source": [
    "### BEGIN SOLUTION\n",
    "var_a = 'a b c d e f g h i j'.split(' ')\n",
    "var_b = tuple(range(1, 11))\n",
    "### END SOLUTION"
   ]
  },
  {
   "cell_type": "code",
   "execution_count": 7,
   "metadata": {
    "nbgrader": {
     "grade": true,
     "grade_id": "cell-88582fbb27969b63",
     "locked": true,
     "points": 1,
     "schema_version": 1,
     "solution": false
    }
   },
   "outputs": [],
   "source": [
    "# Tests for Q1\n",
    "\n",
    "# These tests check the variables are defined\n",
    "assert var_a\n",
    "assert var_b\n",
    "\n",
    "# These tests check that the variables are the right data types\n",
    "assert isinstance(var_a, list)\n",
    "assert isinstance(var_b, tuple)\n",
    "\n",
    "# These tests check the variables have the right values\n",
    "assert var_a == ['a', 'b', 'c', 'd', 'e', 'f', 'g', 'h', 'i', 'j']\n",
    "assert var_b == (1, 2, 3, 4, 5, 6, 7, 8, 9, 10)"
   ]
  },
  {
   "cell_type": "markdown",
   "metadata": {
    "nbgrader": {
     "grade": false,
     "grade_id": "cell-699c885e5d4d90a9",
     "locked": true,
     "schema_version": 1,
     "solution": false
    }
   },
   "source": [
    "**Question 2: Defining Variables, Part II (1 point)**\n",
    "\n",
    "Create a Python dict called `dictionary` where the keys are the elements in `var_a` and the values are the corresponding elements in `var_b`.\n",
    "\n",
    "The `zip` function may be useful.\n",
    "\n",
    "You might also make use of a Python dictionary comprehension."
   ]
  },
  {
   "cell_type": "code",
   "execution_count": 14,
   "metadata": {
    "nbgrader": {
     "grade": false,
     "grade_id": "cell-a0c9ee8ea65481d3",
     "locked": false,
     "schema_version": 1,
     "solution": true
    }
   },
   "outputs": [],
   "source": [
    "### BEGIN SOLUTION\n",
    "dictionary = { key: val for key, val in zip(var_a, var_b) }\n",
    "\n",
    "# The following is also perfectly valid:\n",
    "# dictionary = dict(zip(var_a, var_b))\n",
    "\n",
    "# Or:\n",
    "# dictionary = {}\n",
    "# for i in range(len(var_a)):\n",
    "#     dictionary[var_a[i]] = var_b[i]\n",
    "\n",
    "### END SOLUTION"
   ]
  },
  {
   "cell_type": "code",
   "execution_count": 15,
   "metadata": {
    "nbgrader": {
     "grade": true,
     "grade_id": "cell-611de86b26434b5e",
     "locked": true,
     "points": 1,
     "schema_version": 1,
     "solution": false
    }
   },
   "outputs": [],
   "source": [
    "# Tests for Q2\n",
    "assert dictionary\n",
    "\n",
    "# There are also some hidden tests that check the contents of dictionary\n",
    "### BEGIN HIDDEN TESTS\n",
    "assert sorted(dictionary.items()) == [\n",
    "    ('a', 1), ('b', 2), ('c', 3), ('d', 4), ('e', 5), ('f', 6), ('g', 7),\n",
    "    ('h', 8), ('i', 9), ('j', 10)\n",
    "]\n",
    "### END HIDDEN TESTS"
   ]
  },
  {
   "cell_type": "markdown",
   "metadata": {
    "nbgrader": {
     "grade": false,
     "grade_id": "cell-e355ac07c010ec1a",
     "locked": true,
     "schema_version": 1,
     "solution": false
    }
   },
   "source": [
    "**Question 3: Control Flow (1 point)**\n",
    "\n",
    "Loop through the provided list `lst`. For each element, check if it is an even number. If the element is an even number, append the INDEX of that element to the list `inds`.\n",
    "\n",
    "Note that you are adding the index to `inds`, **not the element itself**.\n",
    "   \n",
    "Hint: to check if a number is even, you can use the modulo `%` operator.\n",
    "\n",
    "Hint: to loop through an iterable, keeping track of the index, you can use the `enumerate` function."
   ]
  },
  {
   "cell_type": "code",
   "execution_count": 19,
   "metadata": {
    "nbgrader": {
     "grade": false,
     "grade_id": "cell-5c803671612c731a",
     "locked": false,
     "schema_version": 1,
     "solution": true
    }
   },
   "outputs": [],
   "source": [
    "# These variables are provided to you.\n",
    "lst = [1, 2, 3, 4, 5, 6, 7, 8, 9, 10, 11, 12, 13, 14, 15]\n",
    "inds = []\n",
    "\n",
    "### BEGIN SOLUTION\n",
    "inds = [index for index, el in enumerate(lst) if el % 2 == 0]\n",
    "\n",
    "# Alternatively:\n",
    "# for ind, it in enumerate(lst):\n",
    "#     if it % 2 == 0:\n",
    "#         inds.append(ind)\n",
    "### END SOLUTION"
   ]
  },
  {
   "cell_type": "code",
   "execution_count": 22,
   "metadata": {
    "nbgrader": {
     "grade": true,
     "grade_id": "cell-90cd314531614439",
     "locked": true,
     "points": 1,
     "schema_version": 1,
     "solution": false
    }
   },
   "outputs": [],
   "source": [
    "# Test for Q3\n",
    "\n",
    "assert inds\n",
    "\n",
    "# There is also a hidden test that checks the contents of 'inds'\n",
    "### BEGIN HIDDEN TESTS\n",
    "assert inds == [1, 3, 5, 7, 9, 11, 13]\n",
    "### END HIDDEN TESTS"
   ]
  },
  {
   "cell_type": "markdown",
   "metadata": {
    "nbgrader": {
     "grade": false,
     "grade_id": "cell-55c5ff22e018213c",
     "locked": true,
     "schema_version": 1,
     "solution": false
    }
   },
   "source": [
    "**Question 4: Functions (1 point)**\n",
    "\n",
    "Write a function `squared_diff` that takes two number inputs and returns the squared difference of the two numbers i.e. $(a - b)^2$. For example:\n",
    "\n",
    "```python\n",
    ">>> squared_diff(2, 4)\n",
    "4\n",
    ">>> squared_diff(10, 1)\n",
    "81\n",
    "```"
   ]
  },
  {
   "cell_type": "code",
   "execution_count": 23,
   "metadata": {
    "nbgrader": {
     "grade": false,
     "grade_id": "add2",
     "locked": false,
     "schema_version": 1,
     "solution": true
    }
   },
   "outputs": [],
   "source": [
    "### BEGIN SOLUTION\n",
    "def squared_diff(a, b):\n",
    "    return (a - b) ** 2\n",
    "### END SOLUTION"
   ]
  },
  {
   "cell_type": "code",
   "execution_count": 25,
   "metadata": {
    "nbgrader": {
     "grade": true,
     "grade_id": "add2-tests",
     "locked": true,
     "points": 1,
     "schema_version": 1,
     "solution": false
    }
   },
   "outputs": [],
   "source": [
    "# Tests for Q4\n",
    "\n",
    "assert squared_diff(2, 4) == 4\n",
    "assert squared_diff(10, 1) == 81\n",
    "\n",
    "# There are also hidden tests that checks more cases of squared_diff\n",
    "### BEGIN HIDDEN TESTS\n",
    "assert squared_diff(1, 10) == 81\n",
    "assert squared_diff(5, 5) == 0\n",
    "assert squared_diff(0, 0) == 0\n",
    "### END HIDDEN TESTS"
   ]
  },
  {
   "cell_type": "markdown",
   "metadata": {
    "nbgrader": {
     "grade": false,
     "grade_id": "cell-57addbde2ff102b5",
     "locked": true,
     "schema_version": 1,
     "solution": false
    }
   },
   "source": [
    "**Question 5: Putting it all together (1 point)**\n",
    "\n",
    "Create a dictionary named `other_dictionary`. It should have the key-value pairs as `dictionary`, unless the original value is odd. If so, the value in `other_dictionary` should be the squared difference of the original value and `10`.\n",
    "\n",
    "Note: to loop through key-value pairs in a dictionary, check out the '.items' method."
   ]
  },
  {
   "cell_type": "code",
   "execution_count": 28,
   "metadata": {
    "nbgrader": {
     "grade": false,
     "grade_id": "cell-50b7166b6554cfff",
     "locked": false,
     "schema_version": 1,
     "solution": true
    }
   },
   "outputs": [],
   "source": [
    "# This variable is provided to you.\n",
    "other_dictionary = dict()\n",
    "\n",
    "### BEGIN SOLUTION\n",
    "other_dictionary = {\n",
    "    key: squared_diff(value, 10) if value % 2 == 1 else value\n",
    "    for key, value in dictionary.items()\n",
    "}\n",
    "\n",
    "# Here's another way to solve this problem:\n",
    "# for ke, va in dictionary.items():\n",
    "#     if va % 2 == 1:\n",
    "#         other_dictionary[ke] = squared_diff(va, 1)\n",
    "#     else:\n",
    "#         other_dictionary[ke] = va\n",
    "### END SOLUTION"
   ]
  },
  {
   "cell_type": "code",
   "execution_count": 31,
   "metadata": {
    "nbgrader": {
     "grade": true,
     "grade_id": "cell-234cdbef12134b0d",
     "locked": true,
     "points": 1,
     "schema_version": 1,
     "solution": false
    }
   },
   "outputs": [],
   "source": [
    "# Tests for Q5\n",
    "\n",
    "assert other_dictionary\n",
    "\n",
    "# There are hidden tests that check the contents of 'other_dictionary'.\n",
    "### BEGIN HIDDEN TESTS\n",
    "assert other_dictionary == {\n",
    "    'a': 81, 'b': 2, 'c': 49, 'd': 4, 'e': 25, 'f': 6,\n",
    "    'g': 9, 'h': 8, 'i': 1, 'j': 10\n",
    "}\n",
    "### END HIDDEN TESTS"
   ]
  },
  {
   "cell_type": "markdown",
   "metadata": {
    "collapsed": true,
    "nbgrader": {
     "grade": false,
     "grade_id": "cell-55c1e6316ed77616",
     "locked": true,
     "schema_version": 1,
     "solution": false
    }
   },
   "source": [
    "**Question 6: Data Science Modules (1 point)**\n",
    "\n",
    "This question is just about importing the more core data science modules. We won't start using them yet. \n",
    "\n",
    "This is just to test that you have them available and working (this is the only time we'll ask you to write out your own import modules in assignments). \n",
    "\n",
    "If you are unable to import them, make sure you have anaconda properly installed (and ask for help in office hours if you can't get them working).\n",
    "\n",
    "Import the `numpy`, `scipy`, `pandas`, `matplotlib.pyplot`, `sklearn` modules as `np`, `sp`, `pd`, `plt`, `skl`, respectively."
   ]
  },
  {
   "cell_type": "code",
   "execution_count": 32,
   "metadata": {
    "nbgrader": {
     "grade": false,
     "grade_id": "imports",
     "locked": false,
     "schema_version": 1,
     "solution": true
    }
   },
   "outputs": [],
   "source": [
    "### BEGIN SOLUTION\n",
    "import numpy as np\n",
    "import scipy as sp\n",
    "import pandas as pd\n",
    "import matplotlib.pyplot as plt\n",
    "import sklearn as skl\n",
    "### END SOLUTION"
   ]
  },
  {
   "cell_type": "code",
   "execution_count": 35,
   "metadata": {
    "nbgrader": {
     "grade": true,
     "grade_id": "autograder-tests",
     "locked": true,
     "points": 1,
     "schema_version": 1,
     "solution": false
    }
   },
   "outputs": [],
   "source": [
    "# Tests for Q6\n",
    "\n",
    "assert(np.array)\n",
    "assert(sp.arcsinh)\n",
    "assert(pd.DataFrame)\n",
    "assert(plt.plot)\n",
    "\n",
    "# If you fail this test, you probably have an older version of scikit-learn.\n",
    "# Run `pip install -U scikit-learn` to update it, then restart the notebook\n",
    "# kernel and rerun all cells.\n",
    "assert(skl.show_versions)"
   ]
  }
 ],
 "metadata": {
  "anaconda-cloud": {},
  "celltoolbar": "Create Assignment",
  "kernelspec": {
   "display_name": "Python 3",
   "language": "python",
   "name": "python3"
  },
  "language_info": {
   "codemirror_mode": {
    "name": "ipython",
    "version": 3
   },
   "file_extension": ".py",
   "mimetype": "text/x-python",
   "name": "python",
   "nbconvert_exporter": "python",
   "pygments_lexer": "ipython3",
   "version": "3.7.1"
  }
 },
 "nbformat": 4,
 "nbformat_minor": 1
}
